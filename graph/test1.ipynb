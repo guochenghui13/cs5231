{
 "cells": [
  {
   "cell_type": "code",
   "execution_count": 55,
   "metadata": {},
   "outputs": [],
   "source": [
    "import numpy as np\n",
    "import pandas as pd\n",
    "from py2neo import Node,Relationship,Graph,Path,Subgraph\n",
    "from py2neo import NodeMatcher,RelationshipMatcher"
   ]
  },
  {
   "cell_type": "code",
   "execution_count": 56,
   "metadata": {},
   "outputs": [],
   "source": [
    "neo4j_url = 'http://localhost:7474/'\n",
    "user = 'neo4j'\n",
    "pwd = 'xmxujie13'\n",
    "graph = Graph(neo4j_url,  auth=(user, pwd), name = \"neo4j\")\n",
    "node_matcher = NodeMatcher(graph)"
   ]
  },
  {
   "cell_type": "code",
   "execution_count": 57,
   "metadata": {},
   "outputs": [
    {
     "data": {
      "text/html": [
       "(No data)"
      ],
      "text/plain": [
       "(No data)"
      ]
     },
     "execution_count": 57,
     "metadata": {},
     "output_type": "execute_result"
    }
   ],
   "source": [
    "graph.run(\"MATCH (n) DETACH DELETE n\")"
   ]
  },
  {
   "cell_type": "code",
   "execution_count": 58,
   "metadata": {},
   "outputs": [],
   "source": [
    "def add_file_operation(process_name, op, target_file):\n",
    "    # 如果节点不存在就需要创建\n",
    "    node1 = node_matcher.match(\"Process\").where(name=process_name).first()\n",
    "    node2 = node_matcher.match(\"File\").where(name=target_file).first()\n",
    "    \n",
    "    if node1 is None:\n",
    "        node1 = Node(\"Process\", name=process_name)\n",
    "        graph.create(node1)\n",
    "    \n",
    "    if node2 is None:\n",
    "        node2 = Node(\"File\", name=target_file)\n",
    "        graph.create(node2)\n",
    "    \n",
    "    # build relationship\n",
    "    relation1 = Relationship(node1, op, node2)\n",
    "    \n",
    "    graph.create(relation1)"
   ]
  },
  {
   "cell_type": "code",
   "execution_count": 59,
   "metadata": {},
   "outputs": [],
   "source": [
    "add_file_operation(\"program11\", \"openat\", \"secret.txt\")\n",
    "add_file_operation(\"program11\", \"read\", \"secret.txt\")\n",
    "add_file_operation(\"program11\", \"openat\", \"attacker/secret.txt\")\n",
    "add_file_operation(\"program11\", \"write\", \"attacker/secret.txt\")"
   ]
  },
  {
   "cell_type": "code",
   "execution_count": null,
   "metadata": {},
   "outputs": [],
   "source": []
  },
  {
   "cell_type": "code",
   "execution_count": null,
   "metadata": {},
   "outputs": [],
   "source": []
  }
 ],
 "metadata": {
  "kernelspec": {
   "display_name": "Python 3.7.4 ('base')",
   "language": "python",
   "name": "python3"
  },
  "language_info": {
   "codemirror_mode": {
    "name": "ipython",
    "version": 3
   },
   "file_extension": ".py",
   "mimetype": "text/x-python",
   "name": "python",
   "nbconvert_exporter": "python",
   "pygments_lexer": "ipython3",
   "version": "3.7.4"
  },
  "orig_nbformat": 4,
  "vscode": {
   "interpreter": {
    "hash": "40d3a090f54c6569ab1632332b64b2c03c39dcf918b08424e98f38b5ae0af88f"
   }
  }
 },
 "nbformat": 4,
 "nbformat_minor": 2
}

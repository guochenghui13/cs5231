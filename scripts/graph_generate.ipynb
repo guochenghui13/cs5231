{
 "cells": [
  {
   "cell_type": "code",
   "execution_count": 112,
   "metadata": {},
   "outputs": [],
   "source": [
    "neo4j_url = 'http://localhost:7474/'\n",
    "user = 'neo4j'\n",
    "pwd = 'xmxujie13'\n",
    "graph = Graph(neo4j_url,  auth=(user, pwd), name = \"neo4j\")\n",
    "node_matcher = NodeMatcher(graph)"
   ]
  },
  {
   "cell_type": "code",
   "execution_count": 113,
   "metadata": {},
   "outputs": [
    {
     "data": {
      "text/html": [
       "(No data)"
      ],
      "text/plain": [
       "(No data)"
      ]
     },
     "execution_count": 113,
     "metadata": {},
     "output_type": "execute_result"
    }
   ],
   "source": [
    "graph.run(\"MATCH (n) DETACH DELETE n\")"
   ]
  },
  {
   "cell_type": "markdown",
   "metadata": {},
   "source": [
    "### Read Data"
   ]
  },
  {
   "cell_type": "code",
   "execution_count": 114,
   "metadata": {},
   "outputs": [],
   "source": [
    "logFile = '../logs/auditbeat-20221131_filtered.json'"
   ]
  },
  {
   "cell_type": "code",
   "execution_count": 115,
   "metadata": {},
   "outputs": [],
   "source": [
    "# read\n",
    "fr = open(logFile, \"r\")\n",
    "logs = [json.loads(line) for line in fr.readlines()]\n",
    "fr.close()\n"
   ]
  },
  {
   "cell_type": "code",
   "execution_count": 116,
   "metadata": {},
   "outputs": [],
   "source": [
    "# 过滤只有program相关操作\n",
    "filterLogs = []\n",
    "filesLogs = []\n",
    "netLogs = []\n",
    "\n",
    "for log in logs:\n",
    "    ruletype = RuleType().parse_jsons(log['rule'])\n",
    "    \n",
    "    if ruletype.tag == \"sys_access\":\n",
    "        filesLogs.append(json.loads(log['log']))\n",
    "        \n",
    "    if ruletype.tag == \"socket_as_client\" or ruletype.tag == \"sys_curl\":\n",
    "        netLogs.append(json.loads(log['log']))\n"
   ]
  },
  {
   "cell_type": "markdown",
   "metadata": {},
   "source": [
    "### File Access Provenance graph\n",
    "* Open File\n",
    "* Read File\n",
    "* Write File"
   ]
  },
  {
   "cell_type": "code",
   "execution_count": 117,
   "metadata": {},
   "outputs": [],
   "source": [
    "for log in filesLogs:\n",
    "    \n",
    "    pLocation = log['executable']\n",
    "    \n",
    "    if 'program' not in pLocation:\n",
    "        continue\n",
    "    \n",
    "    fLocation = log['accessed_file']\n",
    "    pName = pLocation.split('/')[-1]\n",
    "    fName = fLocation.split('/')[-1]\n",
    "    fType = 'File' if fName != 'secret.txt' else 'Secret'\n",
    "\n",
    "    op = log['syscall']\n",
    "    \n",
    "    # additional information\n",
    "    pid = log['pid'] \n",
    "    pUser = log['user']\n",
    "    ts = log['timestamp']\n",
    "\n",
    "    \n",
    "    node1 = node_matcher.match(\"Process\").where(name=pName).first()\n",
    "    node2 = node_matcher.match(\"File\").where(name=fName).first()\n",
    "    \n",
    "    if node1 is None:\n",
    "        node1 = Node(\"Process\", name=pName, location = pLocation, pid = pid, user = pUser['name'])\n",
    "        graph.create(node1)\n",
    "    \n",
    "    if node2 is None:\n",
    "        node2 = Node(fType, name=fName, location = fLocation)\n",
    "        graph.create(node2)\n",
    "        \n",
    "    # build relationship\n",
    "    relation1 = Relationship(node1, op, node2, timeStamp = ts)\n",
    "    \n",
    "    graph.create(relation1)\n",
    "    "
   ]
  },
  {
   "cell_type": "code",
   "execution_count": 118,
   "metadata": {},
   "outputs": [
    {
     "name": "stdout",
     "output_type": "stream",
     "text": [
      "6285\n"
     ]
    }
   ],
   "source": [
    "print(len(netLogs))"
   ]
  },
  {
   "cell_type": "markdown",
   "metadata": {},
   "source": [
    "### NetWork Provenance Graph"
   ]
  },
  {
   "cell_type": "markdown",
   "metadata": {},
   "source": [
    "1 . build the relationship between end-hosts"
   ]
  },
  {
   "cell_type": "code",
   "execution_count": 119,
   "metadata": {},
   "outputs": [
    {
     "name": "stdout",
     "output_type": "stream",
     "text": [
      "<class 'dict'>\n",
      "<class 'dict'>\n",
      "<class 'dict'>\n",
      "<class 'dict'>\n",
      "<class 'dict'>\n",
      "<class 'dict'>\n",
      "<class 'dict'>\n",
      "<class 'dict'>\n",
      "<class 'dict'>\n",
      "<class 'dict'>\n",
      "<class 'dict'>\n"
     ]
    }
   ],
   "source": [
    "for log in netLogs:\n",
    "    pLocation = log['executable']\n",
    "    \n",
    "    if 'socket' not in log:\n",
    "        continue;\n",
    "    \n",
    "    socket_addr = ast.literal_eval(log['socket'])\n",
    "    \n",
    "    \n",
    "    if 'addr' not in socket_addr:\n",
    "        continue\n",
    "    \n",
    "    print(type(socket_addr))\n",
    "    \n",
    "    pName = pLocation.split('/')[-1]\n",
    "    ip = socket_addr['addr']\n",
    "    port = socket_addr['port']\n",
    "    protocol = socket_addr['family']\n",
    "    \n",
    "    op = log['syscall']\n",
    "    \n",
    "     # additional information\n",
    "    pid = log['pid'] \n",
    "    pUser = log['user']\n",
    "    ts = log['timestamp']\n",
    "\n",
    "    node1 = node_matcher.match(\"Process\").where(name = pName).first()\n",
    "    node2 = node_matcher.match(\"NetWork\").where(ip = ip).where(port = port).first()\n",
    "    \n",
    "    \n",
    "    if node1 is None:\n",
    "        node1 = Node(\"Process\", name=pName, location = pLocation, pid = pid, user = pUser['name'])\n",
    "        graph.create(node1)\n",
    "    \n",
    "    if node2 is None:\n",
    "        node2 = Node(\"Network\", name = \"Host\", pid = pid, ip = ip, port = port)\n",
    "        graph.create(node2)\n",
    "    \n",
    "    if node2 is None:\n",
    "        continue\n",
    "    \n",
    "     # build relationship\n",
    "    relation1 = Relationship(node1, op, node2, timeStamp = ts)\n",
    "    \n",
    "    graph.create(relation1)\n",
    "\n",
    "\n",
    "    "
   ]
  },
  {
   "cell_type": "markdown",
   "metadata": {},
   "source": [
    "2. build the realtion between program and download file"
   ]
  },
  {
   "cell_type": "code",
   "execution_count": 120,
   "metadata": {},
   "outputs": [],
   "source": [
    "for log in filesLogs:\n",
    "    pLocation = log['executable']\n",
    "    \n",
    "    if 'accessed_file' not in log: \n",
    "        continue\n",
    "    \n",
    "    fLocation = log['accessed_file']\n",
    "    pName = pLocation.split('/')[-1]\n",
    "    fName = fLocation.split('/')[-1]\n",
    "    op = log['syscall']\n",
    "    \n",
    "    if pName != 'curl':\n",
    "        continue\n",
    "    \n",
    "    if op != 'openat':\n",
    "        continue\n",
    "    \n",
    "    if 'program' not in fName:\n",
    "        continue\n",
    "    \n",
    "    \n",
    "     # additional information\n",
    "    pid = log['pid'] \n",
    "    pUser = log['user']\n",
    "    ts = log['timestamp']\n",
    "\n",
    "    node1 = node_matcher.match(\"Process\").where(name = pName).first()\n",
    "    node2 = node_matcher.match(\"Process\").where(name = fName).first()\n",
    "    \n",
    "    \n",
    "    if node1 is None:\n",
    "        node1 = Node(\"Process\", name=pName, location = pLocation, pid = pid, user = pUser['name'])\n",
    "        graph.create(node1)\n",
    "    \n",
    "     # build relationship\n",
    "    relation1 = Relationship(node1, 'download', node2, timeStamp = ts)\n",
    "    \n",
    "    graph.create(relation1)\n",
    "\n",
    "\n",
    "    "
   ]
  },
  {
   "cell_type": "markdown",
   "metadata": {},
   "source": [
    "3. build recevm graph"
   ]
  },
  {
   "cell_type": "code",
   "execution_count": 121,
   "metadata": {},
   "outputs": [
    {
     "name": "stdout",
     "output_type": "stream",
     "text": [
      "286590\n",
      "(_109:Network {ip: '127.0.0.1', name: 'Host', pid: '286560', port: '8080'})\n",
      "286560\n",
      "(_110:Network {ip: '127.0.0.1', name: 'Host', pid: '286563', port: '8080'})\n",
      "286563\n",
      "(_111:Network {ip: '127.0.0.1', name: 'Host', pid: '286566', port: '8080'})\n",
      "286566\n",
      "(_112:Network {ip: '127.0.0.1', name: 'Host', pid: '286569', port: '8080'})\n",
      "286569\n",
      "(_113:Network {ip: '127.0.0.1', name: 'Host', pid: '286572', port: '8080'})\n",
      "286572\n",
      "(_114:Network {ip: '127.0.0.1', name: 'Host', pid: '286575', port: '8080'})\n",
      "286575\n",
      "(_115:Network {ip: '127.0.0.1', name: 'Host', pid: '286578', port: '8080'})\n",
      "286578\n",
      "(_116:Network {ip: '127.0.0.1', name: 'Host', pid: '286581', port: '8080'})\n",
      "286581\n",
      "(_117:Network {ip: '127.0.0.1', name: 'Host', pid: '286584', port: '8080'})\n",
      "286584\n",
      "(_118:Network {ip: '127.0.0.1', name: 'Host', pid: '286587', port: '8080'})\n",
      "286587\n",
      "(_119:Network {ip: '127.0.0.1', name: 'Host', pid: '286590', port: '8080'})\n"
     ]
    }
   ],
   "source": [
    "for log in netLogs:\n",
    "    pLocation = log['executable']\n",
    "    \n",
    "    if 'syscall' not in log:\n",
    "        continue;\n",
    "    \n",
    "    op = log['syscall']\n",
    "    \n",
    "    if op != 'recvfrom':\n",
    "        continue    \n",
    "    \n",
    "    pName = pLocation.split('/')[-1]\n",
    "    \n",
    "    if pName != 'curl':\n",
    "        continue\n",
    "    \n",
    "    print(pid)\n",
    "    \n",
    "    pid = log['pid'] \n",
    "    pUser = log['user']\n",
    "    ts = log['timestamp']\n",
    "    length = log['length of received message']\n",
    "\n",
    "    node1 = node_matcher.match(\"Process\").where(name = pName).first()\n",
    "    node2 = node_matcher.match(\"Network\").where(pid=pid).first()\n",
    "    \n",
    "    print(node2)\n",
    "    \n",
    "    if node2 is None:\n",
    "        continue\n",
    "    \n",
    "     # build relationship\n",
    "    relation1 = Relationship(node2, op, node1, timeStamp = ts, reveive_byte = length)\n",
    "    \n",
    "    graph.create(relation1)"
   ]
  },
  {
   "cell_type": "markdown",
   "metadata": {},
   "source": [
    "4. build sendto graph"
   ]
  },
  {
   "cell_type": "code",
   "execution_count": 123,
   "metadata": {},
   "outputs": [
    {
     "name": "stdout",
     "output_type": "stream",
     "text": [
      "286560\n",
      "(_109:Network {ip: '127.0.0.1', name: 'Host', pid: '286560', port: '8080'})\n",
      "286560\n",
      "(_109:Network {ip: '127.0.0.1', name: 'Host', pid: '286560', port: '8080'})\n",
      "286560\n",
      "(_110:Network {ip: '127.0.0.1', name: 'Host', pid: '286563', port: '8080'})\n",
      "286563\n",
      "(_110:Network {ip: '127.0.0.1', name: 'Host', pid: '286563', port: '8080'})\n",
      "286563\n",
      "(_111:Network {ip: '127.0.0.1', name: 'Host', pid: '286566', port: '8080'})\n",
      "286566\n",
      "(_111:Network {ip: '127.0.0.1', name: 'Host', pid: '286566', port: '8080'})\n",
      "286566\n",
      "(_112:Network {ip: '127.0.0.1', name: 'Host', pid: '286569', port: '8080'})\n",
      "286569\n",
      "(_112:Network {ip: '127.0.0.1', name: 'Host', pid: '286569', port: '8080'})\n",
      "286569\n",
      "(_113:Network {ip: '127.0.0.1', name: 'Host', pid: '286572', port: '8080'})\n",
      "286572\n",
      "(_113:Network {ip: '127.0.0.1', name: 'Host', pid: '286572', port: '8080'})\n",
      "286572\n",
      "(_114:Network {ip: '127.0.0.1', name: 'Host', pid: '286575', port: '8080'})\n",
      "286575\n",
      "(_114:Network {ip: '127.0.0.1', name: 'Host', pid: '286575', port: '8080'})\n",
      "286575\n",
      "(_115:Network {ip: '127.0.0.1', name: 'Host', pid: '286578', port: '8080'})\n",
      "286578\n",
      "(_115:Network {ip: '127.0.0.1', name: 'Host', pid: '286578', port: '8080'})\n",
      "286578\n",
      "(_116:Network {ip: '127.0.0.1', name: 'Host', pid: '286581', port: '8080'})\n",
      "286581\n",
      "(_116:Network {ip: '127.0.0.1', name: 'Host', pid: '286581', port: '8080'})\n",
      "286581\n",
      "(_117:Network {ip: '127.0.0.1', name: 'Host', pid: '286584', port: '8080'})\n",
      "286584\n",
      "(_117:Network {ip: '127.0.0.1', name: 'Host', pid: '286584', port: '8080'})\n",
      "286584\n",
      "(_118:Network {ip: '127.0.0.1', name: 'Host', pid: '286587', port: '8080'})\n",
      "286587\n",
      "(_118:Network {ip: '127.0.0.1', name: 'Host', pid: '286587', port: '8080'})\n",
      "286587\n",
      "(_119:Network {ip: '127.0.0.1', name: 'Host', pid: '286590', port: '8080'})\n",
      "286590\n",
      "(_119:Network {ip: '127.0.0.1', name: 'Host', pid: '286590', port: '8080'})\n"
     ]
    }
   ],
   "source": [
    "for log in netLogs:\n",
    "    pLocation = log['executable']\n",
    "    \n",
    "    if 'syscall' not in log:\n",
    "        continue;\n",
    "    \n",
    "    op = log['syscall']\n",
    "    \n",
    "    if op != 'sendto':\n",
    "        continue    \n",
    "    \n",
    "    pName = pLocation.split('/')[-1]\n",
    "    \n",
    "    if pName != 'curl':\n",
    "        continue\n",
    "    \n",
    "    print(pid)\n",
    "    \n",
    "    pid = log['pid'] \n",
    "    pUser = log['user']\n",
    "    ts = log['timestamp']\n",
    "    length = log['length of sent message']\n",
    "\n",
    "    node1 = node_matcher.match(\"Process\").where(name = pName).first()\n",
    "    node2 = node_matcher.match(\"Network\").where(pid=pid).first()\n",
    "    \n",
    "    print(node2)\n",
    "    \n",
    "    if node2 is None:\n",
    "        continue\n",
    "    \n",
    "     # build relationship\n",
    "    relation1 = Relationship(node1, op, node2, timeStamp = ts, reveive_byte = length)\n",
    "    \n",
    "    graph.create(relation1)"
   ]
  },
  {
   "cell_type": "code",
   "execution_count": null,
   "metadata": {},
   "outputs": [],
   "source": []
  }
 ],
 "metadata": {
  "kernelspec": {
   "display_name": "Python 3.7.4 ('base')",
   "language": "python",
   "name": "python3"
  },
  "language_info": {
   "codemirror_mode": {
    "name": "ipython",
    "version": 3
   },
   "file_extension": ".py",
   "mimetype": "text/x-python",
   "name": "python",
   "nbconvert_exporter": "python",
   "pygments_lexer": "ipython3",
   "version": "3.7.4"
  },
  "orig_nbformat": 4,
  "vscode": {
   "interpreter": {
    "hash": "40d3a090f54c6569ab1632332b64b2c03c39dcf918b08424e98f38b5ae0af88f"
   }
  }
 },
 "nbformat": 4,
 "nbformat_minor": 2
}
